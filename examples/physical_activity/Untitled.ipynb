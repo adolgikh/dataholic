{
 "cells": [
  {
   "cell_type": "code",
   "execution_count": 2,
   "metadata": {
    "collapsed": true
   },
   "outputs": [],
   "source": [
    "import pandas as pd\n",
    "import numpy as np\n",
    "import string as str\n",
    "%matplotlib inline"
   ]
  },
  {
   "cell_type": "code",
   "execution_count": 3,
   "metadata": {
    "collapsed": false
   },
   "outputs": [],
   "source": [
    "names = (('Aerobic activity', 'Muscle strengthening', 'Aerobic activity & muscle strengthening'),\n",
    "        ('All', 'Male', 'Female', 'All', 'Male', 'Female', 'All', 'Male', 'Female'))\n",
    "df = pd.read_csv(\n",
    "    '../../datasets/physical_activity/physical activity.csv',\n",
    "    skiprows=7,\n",
    "    index_col=[0,1],\n",
    "    tupleize_cols=False,\n",
    "    header=[0,1],\n",
    "    encoding='latin1'\n",
    ")\n",
    "df.columns.names = ['Met Activity', 'Sex']\n",
    "df.index.set_levels([df.index.map(lambda item: item[0].replace(u'\\xa0', '')),df.index.levels[1]\n",
    "], inplace=True);"
   ]
  },
  {
   "cell_type": "code",
   "execution_count": 7,
   "metadata": {
    "collapsed": false
   },
   "outputs": [
    {
     "data": {
      "text/plain": [
       "MultiIndex(levels=[[u'18+ years (age-adjusted)', u'18+ years (age-adjusted)', u'18+ years (age-adjusted)', u'18+ years (age-adjusted)', u'18+ years (crude)', u'18+ years (crude)', u'18+ years (crude)', u'18+ years (crude)', u'18-44 years', u'18-44 years', u'18-44 years', u'18-44 years', u'18-24 years', u'18-24 years', u'18-24 years', u'18-24 years', u'25-44 years', u'25-44 years', u'25-44 years', u'25-44 years', u'45-64 years', u'45-64 years', u'45-64 years', u'45-64 years', u'45-54 years', u'45-54 years', u'45-54 years', u'45-54 years', u'55-64 years', u'55-64 years', u'55-64 years', u'55-64 years', u'65+ years (age-adjusted)', u'65+ years (age-adjusted)', u'65+ years (age-adjusted)', u'65+ years (age-adjusted)', u'65+ years (crude)', u'65+ years (crude)', u'65+ years (crude)', u'65+ years (crude)', u'65-74 years', u'65-74 years', u'65-74 years', u'65-74 years', u'75-84 years', u'75-84 years', u'75-84 years', u'75-84 years', u'85 and over', u'85 and over', u'85 and over', u'85 and over'], [u'All', u'Near poor', u'Nonpoor', u'Poor']],\n",
       "           labels=[[0, 0, 0, 0, 1, 1, 1, 1, 4, 4, 4, 4, 9, 9, 9, 9, 10, 10, 10, 10, 5, 5, 5, 5, 11, 11, 11, 11, 12, 12, 12, 12, 2, 2, 2, 2, 3, 3, 3, 3, 6, 6, 6, 6, 7, 7, 7, 7, 8, 8, 8, 8], [0, 3, 1, 2, 0, 3, 1, 2, 0, 3, 1, 2, 0, 3, 1, 2, 0, 3, 1, 2, 0, 3, 1, 2, 0, 3, 1, 2, 0, 3, 1, 2, 0, 3, 1, 2, 0, 3, 1, 2, 0, 3, 1, 2, 0, 3, 1, 2, 0, 3, 1, 2]],\n",
       "           names=[u'Age', u'Income'])"
      ]
     },
     "execution_count": 7,
     "metadata": {},
     "output_type": "execute_result"
    }
   ],
   "source": [
    "df.index\n"
   ]
  },
  {
   "cell_type": "code",
   "execution_count": 11,
   "metadata": {
    "collapsed": false
   },
   "outputs": [],
   "source": [
    "dfn=df.ix[u'75-84 years']"
   ]
  },
  {
   "cell_type": "code",
   "execution_count": 9,
   "metadata": {
    "collapsed": false
   },
   "outputs": [
    {
     "data": {
      "text/plain": [
       "Index([u'All', u'Male', u'Female'], dtype='object', name=u'Sex')"
      ]
     },
     "execution_count": 9,
     "metadata": {},
     "output_type": "execute_result"
    }
   ],
   "source": [
    "dfn.columns"
   ]
  },
  {
   "cell_type": "code",
   "execution_count": 12,
   "metadata": {
    "collapsed": false
   },
   "outputs": [
    {
     "data": {
      "text/html": [
       "<div>\n",
       "<table border=\"1\" class=\"dataframe\">\n",
       "  <thead>\n",
       "    <tr>\n",
       "      <th>Met Activity</th>\n",
       "      <th colspan=\"3\" halign=\"left\">Aerobic activity</th>\n",
       "      <th colspan=\"3\" halign=\"left\">Muscle strengthening</th>\n",
       "      <th colspan=\"3\" halign=\"left\">Aerobic activity &amp; muscle strengthening</th>\n",
       "    </tr>\n",
       "    <tr>\n",
       "      <th>Sex</th>\n",
       "      <th>All</th>\n",
       "      <th>Male</th>\n",
       "      <th>Female</th>\n",
       "      <th>All</th>\n",
       "      <th>Male</th>\n",
       "      <th>Female</th>\n",
       "      <th>All</th>\n",
       "      <th>Male</th>\n",
       "      <th>Female</th>\n",
       "    </tr>\n",
       "    <tr>\n",
       "      <th>Income</th>\n",
       "      <th></th>\n",
       "      <th></th>\n",
       "      <th></th>\n",
       "      <th></th>\n",
       "      <th></th>\n",
       "      <th></th>\n",
       "      <th></th>\n",
       "      <th></th>\n",
       "      <th></th>\n",
       "    </tr>\n",
       "  </thead>\n",
       "  <tbody>\n",
       "    <tr>\n",
       "      <th>All</th>\n",
       "      <td>49.7</td>\n",
       "      <td>53.6</td>\n",
       "      <td>46.1</td>\n",
       "      <td>24.2</td>\n",
       "      <td>28.5</td>\n",
       "      <td>20.1</td>\n",
       "      <td>20.9</td>\n",
       "      <td>24.8</td>\n",
       "      <td>17.1</td>\n",
       "    </tr>\n",
       "    <tr>\n",
       "      <th>Poor</th>\n",
       "      <td>36.7</td>\n",
       "      <td>42.2</td>\n",
       "      <td>32.8</td>\n",
       "      <td>14.8</td>\n",
       "      <td>20.1</td>\n",
       "      <td>10.8</td>\n",
       "      <td>12</td>\n",
       "      <td>16.9</td>\n",
       "      <td>8.199999999999999</td>\n",
       "    </tr>\n",
       "    <tr>\n",
       "      <th>Near poor</th>\n",
       "      <td>39.2</td>\n",
       "      <td>42.5</td>\n",
       "      <td>36.3</td>\n",
       "      <td>17.8</td>\n",
       "      <td>22.3</td>\n",
       "      <td>13.8</td>\n",
       "      <td>14.2</td>\n",
       "      <td>17.9</td>\n",
       "      <td>11</td>\n",
       "    </tr>\n",
       "    <tr>\n",
       "      <th>Nonpoor</th>\n",
       "      <td>55.1</td>\n",
       "      <td>58.2</td>\n",
       "      <td>52.1</td>\n",
       "      <td>28.0</td>\n",
       "      <td>31.5</td>\n",
       "      <td>24.3</td>\n",
       "      <td>24.6</td>\n",
       "      <td>27.9</td>\n",
       "      <td>21.2</td>\n",
       "    </tr>\n",
       "  </tbody>\n",
       "</table>\n",
       "</div>"
      ],
      "text/plain": [
       "Met Activity Aerobic activity              Muscle strengthening               \\\n",
       "Sex                       All  Male Female                  All  Male Female   \n",
       "Income                                                                         \n",
       "All                      49.7  53.6   46.1                 24.2  28.5   20.1   \n",
       "Poor                     36.7  42.2   32.8                 14.8  20.1   10.8   \n",
       "Near poor                39.2  42.5   36.3                 17.8  22.3   13.8   \n",
       "Nonpoor                  55.1  58.2   52.1                 28.0  31.5   24.3   \n",
       "\n",
       "Met Activity Aerobic activity & muscle strengthening                           \n",
       "Sex                                              All  Male             Female  \n",
       "Income                                                                         \n",
       "All                                             20.9  24.8               17.1  \n",
       "Poor                                              12  16.9  8.199999999999999  \n",
       "Near poor                                       14.2  17.9                 11  \n",
       "Nonpoor                                         24.6  27.9               21.2  "
      ]
     },
     "execution_count": 12,
     "metadata": {},
     "output_type": "execute_result"
    }
   ],
   "source": [
    "dfn"
   ]
  },
  {
   "cell_type": "code",
   "execution_count": 75,
   "metadata": {
    "collapsed": false
   },
   "outputs": [
    {
     "data": {
      "text/plain": [
       "array([[<matplotlib.axes._subplots.AxesSubplot object at 0x7fd76fe93f10>]], dtype=object)"
      ]
     },
     "execution_count": 75,
     "metadata": {},
     "output_type": "execute_result"
    },
    {
     "data": {
      "image/png": "[encoded data removed]",
      "text/plain": [
       "<matplotlib.figure.Figure at 0x7fd76fe5ea10>"
      ]
     },
     "metadata": {},
     "output_type": "display_data"
    }
   ],
   "source": [
    "dfn.hist(column=['Male'])"
   ]
  },
  {
   "cell_type": "code",
   "execution_count": null,
   "metadata": {
    "collapsed": true
   },
   "outputs": [],
   "source": []
  }
 ],
 "metadata": {
  "kernelspec": {
   "display_name": "Python 2",
   "language": "python",
   "name": "python2"
  },
  "language_info": {
   "codemirror_mode": {
    "name": "ipython",
    "version": 2
   },
   "file_extension": ".py",
   "mimetype": "text/x-python",
   "name": "python",
   "nbconvert_exporter": "python",
   "pygments_lexer": "ipython2",
   "version": "2.7.9"
  }
 },
 "nbformat": 4,
 "nbformat_minor": 0
}
