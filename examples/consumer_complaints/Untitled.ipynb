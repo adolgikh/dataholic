{
 "cells": [
  {
   "cell_type": "code",
   "execution_count": 1,
   "metadata": {
    "collapsed": true
   },
   "outputs": [],
   "source": [
    "import zipfile as zf\n",
    "import pandas as pd\n",
    "import urlparse"
   ]
  },
  {
   "cell_type": "code",
   "execution_count": 3,
   "metadata": {
    "collapsed": false
   },
   "outputs": [],
   "source": [
    "df = pd.read_csv('../../datasets/consumer_complaints/consumer_complaints.csv', sep=',')"
   ]
  },
  {
   "cell_type": "code",
   "execution_count": 5,
   "metadata": {
    "collapsed": false
   },
   "outputs": [
    {
     "data": {
      "text/html": [
       "<div>\n",
       "<table border=\"1\" class=\"dataframe\">\n",
       "  <thead>\n",
       "    <tr style=\"text-align: right;\">\n",
       "      <th></th>\n",
       "      <th>Complaint ID</th>\n",
       "      <th>Product</th>\n",
       "      <th>Sub-product</th>\n",
       "      <th>Issue</th>\n",
       "      <th>Sub-issue</th>\n",
       "      <th>State</th>\n",
       "      <th>ZIP code</th>\n",
       "      <th>Submitted via</th>\n",
       "      <th>Date received</th>\n",
       "      <th>Date sent to company</th>\n",
       "      <th>Company</th>\n",
       "      <th>Company response</th>\n",
       "      <th>Timely response?</th>\n",
       "      <th>Consumer disputed?</th>\n",
       "    </tr>\n",
       "  </thead>\n",
       "  <tbody>\n",
       "    <tr>\n",
       "      <th>393486</th>\n",
       "      <td>2352</td>\n",
       "      <td>Credit card</td>\n",
       "      <td>NaN</td>\n",
       "      <td>Credit determination</td>\n",
       "      <td>NaN</td>\n",
       "      <td>NY</td>\n",
       "      <td>13350</td>\n",
       "      <td>Web</td>\n",
       "      <td>12/01/2011</td>\n",
       "      <td>12/05/2011</td>\n",
       "      <td>Capital One</td>\n",
       "      <td>Closed without relief</td>\n",
       "      <td>Yes</td>\n",
       "      <td>Yes</td>\n",
       "    </tr>\n",
       "    <tr>\n",
       "      <th>393487</th>\n",
       "      <td>2366</td>\n",
       "      <td>Credit card</td>\n",
       "      <td>NaN</td>\n",
       "      <td>Credit reporting</td>\n",
       "      <td>NaN</td>\n",
       "      <td>FL</td>\n",
       "      <td>33415</td>\n",
       "      <td>Referral</td>\n",
       "      <td>12/01/2011</td>\n",
       "      <td>12/06/2011</td>\n",
       "      <td>Citibank</td>\n",
       "      <td>Closed without relief</td>\n",
       "      <td>Yes</td>\n",
       "      <td>Yes</td>\n",
       "    </tr>\n",
       "    <tr>\n",
       "      <th>393488</th>\n",
       "      <td>2368</td>\n",
       "      <td>Credit card</td>\n",
       "      <td>NaN</td>\n",
       "      <td>Credit line increase/decrease</td>\n",
       "      <td>NaN</td>\n",
       "      <td>FL</td>\n",
       "      <td>32792</td>\n",
       "      <td>Web</td>\n",
       "      <td>12/01/2011</td>\n",
       "      <td>12/05/2011</td>\n",
       "      <td>Citibank</td>\n",
       "      <td>Closed without relief</td>\n",
       "      <td>Yes</td>\n",
       "      <td>No</td>\n",
       "    </tr>\n",
       "    <tr>\n",
       "      <th>393489</th>\n",
       "      <td>2371</td>\n",
       "      <td>Credit card</td>\n",
       "      <td>NaN</td>\n",
       "      <td>Other fee</td>\n",
       "      <td>NaN</td>\n",
       "      <td>HI</td>\n",
       "      <td>96813</td>\n",
       "      <td>Web</td>\n",
       "      <td>12/01/2011</td>\n",
       "      <td>12/19/2011</td>\n",
       "      <td>Capital One</td>\n",
       "      <td>Closed without relief</td>\n",
       "      <td>Yes</td>\n",
       "      <td>No</td>\n",
       "    </tr>\n",
       "    <tr>\n",
       "      <th>393490</th>\n",
       "      <td>2374</td>\n",
       "      <td>Credit card</td>\n",
       "      <td>NaN</td>\n",
       "      <td>Payoff process</td>\n",
       "      <td>NaN</td>\n",
       "      <td>CA</td>\n",
       "      <td>94108</td>\n",
       "      <td>Phone</td>\n",
       "      <td>12/01/2011</td>\n",
       "      <td>12/05/2011</td>\n",
       "      <td>Capital One</td>\n",
       "      <td>Closed without relief</td>\n",
       "      <td>Yes</td>\n",
       "      <td>Yes</td>\n",
       "    </tr>\n",
       "  </tbody>\n",
       "</table>\n",
       "</div>"
      ],
      "text/plain": [
       "        Complaint ID      Product Sub-product                          Issue  \\\n",
       "393486          2352  Credit card         NaN           Credit determination   \n",
       "393487          2366  Credit card         NaN               Credit reporting   \n",
       "393488          2368  Credit card         NaN  Credit line increase/decrease   \n",
       "393489          2371  Credit card         NaN                      Other fee   \n",
       "393490          2374  Credit card         NaN                 Payoff process   \n",
       "\n",
       "       Sub-issue State  ZIP code Submitted via Date received  \\\n",
       "393486       NaN    NY     13350           Web    12/01/2011   \n",
       "393487       NaN    FL     33415      Referral    12/01/2011   \n",
       "393488       NaN    FL     32792           Web    12/01/2011   \n",
       "393489       NaN    HI     96813           Web    12/01/2011   \n",
       "393490       NaN    CA     94108         Phone    12/01/2011   \n",
       "\n",
       "       Date sent to company      Company       Company response  \\\n",
       "393486           12/05/2011  Capital One  Closed without relief   \n",
       "393487           12/06/2011     Citibank  Closed without relief   \n",
       "393488           12/05/2011     Citibank  Closed without relief   \n",
       "393489           12/19/2011  Capital One  Closed without relief   \n",
       "393490           12/05/2011  Capital One  Closed without relief   \n",
       "\n",
       "       Timely response? Consumer disputed?  \n",
       "393486              Yes                Yes  \n",
       "393487              Yes                Yes  \n",
       "393488              Yes                 No  \n",
       "393489              Yes                 No  \n",
       "393490              Yes                Yes  "
      ]
     },
     "execution_count": 5,
     "metadata": {},
     "output_type": "execute_result"
    }
   ],
   "source": [
    "df.tail()"
   ]
  },
  {
   "cell_type": "code",
   "execution_count": null,
   "metadata": {
    "collapsed": true
   },
   "outputs": [],
   "source": []
  }
 ],
 "metadata": {
  "kernelspec": {
   "display_name": "Python 2",
   "language": "python",
   "name": "python2"
  },
  "language_info": {
   "codemirror_mode": {
    "name": "ipython",
    "version": 2
   },
   "file_extension": ".py",
   "mimetype": "text/x-python",
   "name": "python",
   "nbconvert_exporter": "python",
   "pygments_lexer": "ipython2",
   "version": "2.7.9"
  }
 },
 "nbformat": 4,
 "nbformat_minor": 0
}
