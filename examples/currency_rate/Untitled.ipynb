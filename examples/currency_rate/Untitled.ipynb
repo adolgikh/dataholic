{
 "cells": [
  {
   "cell_type": "code",
   "execution_count": 1,
   "metadata": {
    "collapsed": true
   },
   "outputs": [],
   "source": [
    "import pandas as pd\n",
    "import locale\n",
    "from dateutil.parser import parse\n",
    "from matplotlib import pyplot as plt\n",
    "%matplotlib inline"
   ]
  },
  {
   "cell_type": "code",
   "execution_count": 2,
   "metadata": {
    "collapsed": false
   },
   "outputs": [],
   "source": [
    "df = pd.read_html(\n",
    "    'http://www.cbr.ru/currency_base/dynamics.aspx?VAL_NM_RQ=R01235&date_req1=29.10.2015&date_req2=05.12.2015&rt=1&mode=1', \n",
    "    attrs={'class': 'data'}, \n",
    "    header=0, \n",
    "    parse_dates=True, \n",
    "    thousands=' ')[0]\n",
    "df.rename(columns={u'Дата': 'date', u'Курс': 'rate'}, inplace=True)\n",
    "df.drop(u'Единиц', axis=1, inplace=True)"
   ]
  },
  {
   "cell_type": "code",
   "execution_count": 3,
   "metadata": {
    "collapsed": false
   },
   "outputs": [
    {
     "data": {
      "text/plain": [
       "'en_US.UTF-8'"
      ]
     },
     "execution_count": 3,
     "metadata": {},
     "output_type": "execute_result"
    }
   ],
   "source": [
    "locale.setlocale(locale.LC_ALL, 'en_US.UTF-8')\n",
    "df['day']=pd.Series(map(lambda el: parse(el, dayfirst=True).strftime('%A'), df['date']))\n",
    "df['week']=pd.Series(map(lambda el: parse(el,dayfirst=True).strftime('%U'), df['date']))\n",
    "locale.setlocale(locale.LC_ALL, 'ru_RU.UTF-8')\n",
    "df['rate'] = map(lambda el: locale.atof(str(el)), df['rate'])\n",
    "locale.setlocale(locale.LC_ALL, 'en_US.UTF-8')"
   ]
  },
  {
   "cell_type": "markdown",
   "metadata": {},
   "source": [
    "A First Level Header\n",
    "====================\n",
    "\n",
    "A Second Level Header\n",
    "---------------------\n",
    "\n",
    "Now is the time for all good men to come to\n",
    "the aid of their country. This is just a\n",
    "regular paragraph.\n",
    "\n",
    "The quick brown fox jumped over the lazy\n",
    "dog's back.\n",
    "\n",
    "### Header 3\n",
    "\n",
    "> This is a blockquote.\n",
    "> \n",
    "> This is the second paragraph in the blockquote.\n",
    ">\n",
    "> ## This is an H2 in a blockquote"
   ]
  },
  {
   "cell_type": "code",
   "execution_count": 4,
   "metadata": {
    "collapsed": false
   },
   "outputs": [
    {
     "data": {
      "text/html": [
       "<div>\n",
       "<table border=\"1\" class=\"dataframe\">\n",
       "  <thead>\n",
       "    <tr style=\"text-align: right;\">\n",
       "      <th></th>\n",
       "      <th>date</th>\n",
       "      <th>rate</th>\n",
       "      <th>day</th>\n",
       "      <th>week</th>\n",
       "    </tr>\n",
       "  </thead>\n",
       "  <tbody>\n",
       "    <tr>\n",
       "      <th>0</th>\n",
       "      <td>29.10.2015</td>\n",
       "      <td>65.3159</td>\n",
       "      <td>Thursday</td>\n",
       "      <td>43</td>\n",
       "    </tr>\n",
       "    <tr>\n",
       "      <th>1</th>\n",
       "      <td>30.10.2015</td>\n",
       "      <td>64.1686</td>\n",
       "      <td>Friday</td>\n",
       "      <td>43</td>\n",
       "    </tr>\n",
       "    <tr>\n",
       "      <th>2</th>\n",
       "      <td>31.10.2015</td>\n",
       "      <td>64.3742</td>\n",
       "      <td>Saturday</td>\n",
       "      <td>43</td>\n",
       "    </tr>\n",
       "    <tr>\n",
       "      <th>3</th>\n",
       "      <td>03.11.2015</td>\n",
       "      <td>63.7993</td>\n",
       "      <td>Tuesday</td>\n",
       "      <td>44</td>\n",
       "    </tr>\n",
       "    <tr>\n",
       "      <th>4</th>\n",
       "      <td>04.11.2015</td>\n",
       "      <td>63.8525</td>\n",
       "      <td>Wednesday</td>\n",
       "      <td>44</td>\n",
       "    </tr>\n",
       "    <tr>\n",
       "      <th>5</th>\n",
       "      <td>06.11.2015</td>\n",
       "      <td>63.3991</td>\n",
       "      <td>Friday</td>\n",
       "      <td>44</td>\n",
       "    </tr>\n",
       "    <tr>\n",
       "      <th>6</th>\n",
       "      <td>07.11.2015</td>\n",
       "      <td>63.6832</td>\n",
       "      <td>Saturday</td>\n",
       "      <td>44</td>\n",
       "    </tr>\n",
       "    <tr>\n",
       "      <th>7</th>\n",
       "      <td>10.11.2015</td>\n",
       "      <td>64.6606</td>\n",
       "      <td>Tuesday</td>\n",
       "      <td>45</td>\n",
       "    </tr>\n",
       "    <tr>\n",
       "      <th>8</th>\n",
       "      <td>11.11.2015</td>\n",
       "      <td>64.3908</td>\n",
       "      <td>Wednesday</td>\n",
       "      <td>45</td>\n",
       "    </tr>\n",
       "    <tr>\n",
       "      <th>9</th>\n",
       "      <td>12.11.2015</td>\n",
       "      <td>64.5693</td>\n",
       "      <td>Thursday</td>\n",
       "      <td>45</td>\n",
       "    </tr>\n",
       "    <tr>\n",
       "      <th>10</th>\n",
       "      <td>13.11.2015</td>\n",
       "      <td>65.4541</td>\n",
       "      <td>Friday</td>\n",
       "      <td>45</td>\n",
       "    </tr>\n",
       "    <tr>\n",
       "      <th>11</th>\n",
       "      <td>14.11.2015</td>\n",
       "      <td>66.6343</td>\n",
       "      <td>Saturday</td>\n",
       "      <td>45</td>\n",
       "    </tr>\n",
       "    <tr>\n",
       "      <th>12</th>\n",
       "      <td>17.11.2015</td>\n",
       "      <td>66.4607</td>\n",
       "      <td>Tuesday</td>\n",
       "      <td>46</td>\n",
       "    </tr>\n",
       "    <tr>\n",
       "      <th>13</th>\n",
       "      <td>18.11.2015</td>\n",
       "      <td>65.4799</td>\n",
       "      <td>Wednesday</td>\n",
       "      <td>46</td>\n",
       "    </tr>\n",
       "    <tr>\n",
       "      <th>14</th>\n",
       "      <td>19.11.2015</td>\n",
       "      <td>64.7785</td>\n",
       "      <td>Thursday</td>\n",
       "      <td>46</td>\n",
       "    </tr>\n",
       "    <tr>\n",
       "      <th>15</th>\n",
       "      <td>20.11.2015</td>\n",
       "      <td>64.9120</td>\n",
       "      <td>Friday</td>\n",
       "      <td>46</td>\n",
       "    </tr>\n",
       "    <tr>\n",
       "      <th>16</th>\n",
       "      <td>21.11.2015</td>\n",
       "      <td>64.8673</td>\n",
       "      <td>Saturday</td>\n",
       "      <td>46</td>\n",
       "    </tr>\n",
       "    <tr>\n",
       "      <th>17</th>\n",
       "      <td>24.11.2015</td>\n",
       "      <td>65.5973</td>\n",
       "      <td>Tuesday</td>\n",
       "      <td>47</td>\n",
       "    </tr>\n",
       "    <tr>\n",
       "      <th>18</th>\n",
       "      <td>25.11.2015</td>\n",
       "      <td>65.6210</td>\n",
       "      <td>Wednesday</td>\n",
       "      <td>47</td>\n",
       "    </tr>\n",
       "    <tr>\n",
       "      <th>19</th>\n",
       "      <td>26.11.2015</td>\n",
       "      <td>65.4789</td>\n",
       "      <td>Thursday</td>\n",
       "      <td>47</td>\n",
       "    </tr>\n",
       "    <tr>\n",
       "      <th>20</th>\n",
       "      <td>27.11.2015</td>\n",
       "      <td>65.6836</td>\n",
       "      <td>Friday</td>\n",
       "      <td>47</td>\n",
       "    </tr>\n",
       "    <tr>\n",
       "      <th>21</th>\n",
       "      <td>28.11.2015</td>\n",
       "      <td>66.2393</td>\n",
       "      <td>Saturday</td>\n",
       "      <td>47</td>\n",
       "    </tr>\n",
       "    <tr>\n",
       "      <th>22</th>\n",
       "      <td>01.12.2015</td>\n",
       "      <td>66.7370</td>\n",
       "      <td>Tuesday</td>\n",
       "      <td>48</td>\n",
       "    </tr>\n",
       "    <tr>\n",
       "      <th>23</th>\n",
       "      <td>02.12.2015</td>\n",
       "      <td>66.2584</td>\n",
       "      <td>Wednesday</td>\n",
       "      <td>48</td>\n",
       "    </tr>\n",
       "    <tr>\n",
       "      <th>24</th>\n",
       "      <td>03.12.2015</td>\n",
       "      <td>66.7402</td>\n",
       "      <td>Thursday</td>\n",
       "      <td>48</td>\n",
       "    </tr>\n",
       "    <tr>\n",
       "      <th>25</th>\n",
       "      <td>04.12.2015</td>\n",
       "      <td>67.7691</td>\n",
       "      <td>Friday</td>\n",
       "      <td>48</td>\n",
       "    </tr>\n",
       "    <tr>\n",
       "      <th>26</th>\n",
       "      <td>05.12.2015</td>\n",
       "      <td>67.6698</td>\n",
       "      <td>Saturday</td>\n",
       "      <td>48</td>\n",
       "    </tr>\n",
       "  </tbody>\n",
       "</table>\n",
       "</div>"
      ],
      "text/plain": [
       "          date     rate        day week\n",
       "0   29.10.2015  65.3159   Thursday   43\n",
       "1   30.10.2015  64.1686     Friday   43\n",
       "2   31.10.2015  64.3742   Saturday   43\n",
       "3   03.11.2015  63.7993    Tuesday   44\n",
       "4   04.11.2015  63.8525  Wednesday   44\n",
       "5   06.11.2015  63.3991     Friday   44\n",
       "6   07.11.2015  63.6832   Saturday   44\n",
       "7   10.11.2015  64.6606    Tuesday   45\n",
       "8   11.11.2015  64.3908  Wednesday   45\n",
       "9   12.11.2015  64.5693   Thursday   45\n",
       "10  13.11.2015  65.4541     Friday   45\n",
       "11  14.11.2015  66.6343   Saturday   45\n",
       "12  17.11.2015  66.4607    Tuesday   46\n",
       "13  18.11.2015  65.4799  Wednesday   46\n",
       "14  19.11.2015  64.7785   Thursday   46\n",
       "15  20.11.2015  64.9120     Friday   46\n",
       "16  21.11.2015  64.8673   Saturday   46\n",
       "17  24.11.2015  65.5973    Tuesday   47\n",
       "18  25.11.2015  65.6210  Wednesday   47\n",
       "19  26.11.2015  65.4789   Thursday   47\n",
       "20  27.11.2015  65.6836     Friday   47\n",
       "21  28.11.2015  66.2393   Saturday   47\n",
       "22  01.12.2015  66.7370    Tuesday   48\n",
       "23  02.12.2015  66.2584  Wednesday   48\n",
       "24  03.12.2015  66.7402   Thursday   48\n",
       "25  04.12.2015  67.7691     Friday   48\n",
       "26  05.12.2015  67.6698   Saturday   48"
      ]
     },
     "execution_count": 4,
     "metadata": {},
     "output_type": "execute_result"
    }
   ],
   "source": [
    "df"
   ]
  },
  {
   "cell_type": "code",
   "execution_count": 5,
   "metadata": {
    "collapsed": false
   },
   "outputs": [
    {
     "data": {
      "text/plain": [
       "<matplotlib.axes._subplots.AxesSubplot at 0x7fcd609cfd50>"
      ]
     },
     "execution_count": 5,
     "metadata": {},
     "output_type": "execute_result"
    },
    {
     "data": {
      "image/png": "[encoded data removed]",
      "text/plain": [
       "<matplotlib.figure.Figure at 0x7fcd8dd641d0>"
      ]
     },
     "metadata": {},
     "output_type": "display_data"
    }
   ],
   "source": [
    "df.plot(x='date', y='rate', grid=True)"
   ]
  },
  {
   "cell_type": "code",
   "execution_count": 103,
   "metadata": {
    "collapsed": false
   },
   "outputs": [],
   "source": [
    "d = parse(df['date'][0])"
   ]
  },
  {
   "cell_type": "code",
   "execution_count": 163,
   "metadata": {
    "collapsed": false
   },
   "outputs": [
    {
     "data": {
      "text/html": [
       "<div>\n",
       "<table border=\"1\" class=\"dataframe\">\n",
       "  <thead>\n",
       "    <tr style=\"text-align: right;\">\n",
       "      <th></th>\n",
       "      <th>date</th>\n",
       "      <th>rate</th>\n",
       "    </tr>\n",
       "    <tr>\n",
       "      <th>day</th>\n",
       "      <th></th>\n",
       "      <th></th>\n",
       "    </tr>\n",
       "  </thead>\n",
       "  <tbody>\n",
       "    <tr>\n",
       "      <th>Wednesday</th>\n",
       "      <td>25.11.2015</td>\n",
       "      <td>66.2584</td>\n",
       "    </tr>\n",
       "    <tr>\n",
       "      <th>Tuesday</th>\n",
       "      <td>24.11.2015</td>\n",
       "      <td>66.7370</td>\n",
       "    </tr>\n",
       "    <tr>\n",
       "      <th>Thursday</th>\n",
       "      <td>29.10.2015</td>\n",
       "      <td>66.7402</td>\n",
       "    </tr>\n",
       "    <tr>\n",
       "      <th>Saturday</th>\n",
       "      <td>31.10.2015</td>\n",
       "      <td>67.6698</td>\n",
       "    </tr>\n",
       "    <tr>\n",
       "      <th>Friday</th>\n",
       "      <td>30.10.2015</td>\n",
       "      <td>67.7691</td>\n",
       "    </tr>\n",
       "  </tbody>\n",
       "</table>\n",
       "</div>"
      ],
      "text/plain": [
       "                 date     rate\n",
       "day                           \n",
       "Wednesday  25.11.2015  66.2584\n",
       "Tuesday    24.11.2015  66.7370\n",
       "Thursday   29.10.2015  66.7402\n",
       "Saturday   31.10.2015  67.6698\n",
       "Friday     30.10.2015  67.7691"
      ]
     },
     "execution_count": 163,
     "metadata": {},
     "output_type": "execute_result"
    }
   ],
   "source": [
    "df.groupby('day').max().sort_values(by='rate')"
   ]
  },
  {
   "cell_type": "code",
   "execution_count": 6,
   "metadata": {
    "collapsed": false
   },
   "outputs": [],
   "source": [
    "df_grouped = df.groupby('week')"
   ]
  },
  {
   "cell_type": "code",
   "execution_count": 174,
   "metadata": {
    "collapsed": false
   },
   "outputs": [
    {
     "data": {
      "text/html": [
       "<div>\n",
       "<table border=\"1\" class=\"dataframe\">\n",
       "  <thead>\n",
       "    <tr style=\"text-align: right;\">\n",
       "      <th></th>\n",
       "      <th>date</th>\n",
       "      <th>rate</th>\n",
       "      <th>day</th>\n",
       "      <th>week</th>\n",
       "    </tr>\n",
       "  </thead>\n",
       "  <tbody>\n",
       "    <tr>\n",
       "      <th>7</th>\n",
       "      <td>10.11.2015</td>\n",
       "      <td>64.6606</td>\n",
       "      <td>Tuesday</td>\n",
       "      <td>45</td>\n",
       "    </tr>\n",
       "    <tr>\n",
       "      <th>8</th>\n",
       "      <td>11.11.2015</td>\n",
       "      <td>64.3908</td>\n",
       "      <td>Wednesday</td>\n",
       "      <td>45</td>\n",
       "    </tr>\n",
       "    <tr>\n",
       "      <th>9</th>\n",
       "      <td>12.11.2015</td>\n",
       "      <td>64.5693</td>\n",
       "      <td>Thursday</td>\n",
       "      <td>45</td>\n",
       "    </tr>\n",
       "    <tr>\n",
       "      <th>10</th>\n",
       "      <td>13.11.2015</td>\n",
       "      <td>65.4541</td>\n",
       "      <td>Friday</td>\n",
       "      <td>45</td>\n",
       "    </tr>\n",
       "    <tr>\n",
       "      <th>11</th>\n",
       "      <td>14.11.2015</td>\n",
       "      <td>66.6343</td>\n",
       "      <td>Saturday</td>\n",
       "      <td>45</td>\n",
       "    </tr>\n",
       "  </tbody>\n",
       "</table>\n",
       "</div>"
      ],
      "text/plain": [
       "          date     rate        day week\n",
       "7   10.11.2015  64.6606    Tuesday   45\n",
       "8   11.11.2015  64.3908  Wednesday   45\n",
       "9   12.11.2015  64.5693   Thursday   45\n",
       "10  13.11.2015  65.4541     Friday   45\n",
       "11  14.11.2015  66.6343   Saturday   45"
      ]
     },
     "execution_count": 174,
     "metadata": {},
     "output_type": "execute_result"
    }
   ],
   "source": [
    "df_grouped.get_group('45')"
   ]
  },
  {
   "cell_type": "code",
   "execution_count": 8,
   "metadata": {
    "collapsed": false
   },
   "outputs": [
    {
     "data": {
      "text/plain": [
       "{'43': [0, 1, 2],\n",
       " '44': [3, 4, 5, 6],\n",
       " '45': [7, 8, 9, 10, 11],\n",
       " '46': [12, 13, 14, 15, 16],\n",
       " '47': [17, 18, 19, 20, 21],\n",
       " '48': [22, 23, 24, 25, 26]}"
      ]
     },
     "execution_count": 8,
     "metadata": {},
     "output_type": "execute_result"
    }
   ],
   "source": [
    "df_grouped.groups"
   ]
  },
  {
   "cell_type": "code",
   "execution_count": 9,
   "metadata": {
    "collapsed": false
   },
   "outputs": [
    {
     "data": {
      "text/html": [
       "<div>\n",
       "<table border=\"1\" class=\"dataframe\">\n",
       "  <thead>\n",
       "    <tr style=\"text-align: right;\">\n",
       "      <th></th>\n",
       "      <th>date</th>\n",
       "      <th>rate</th>\n",
       "      <th>day</th>\n",
       "      <th>week</th>\n",
       "    </tr>\n",
       "  </thead>\n",
       "  <tbody>\n",
       "    <tr>\n",
       "      <th>17</th>\n",
       "      <td>24.11.2015</td>\n",
       "      <td>65.5973</td>\n",
       "      <td>Tuesday</td>\n",
       "      <td>47</td>\n",
       "    </tr>\n",
       "    <tr>\n",
       "      <th>18</th>\n",
       "      <td>25.11.2015</td>\n",
       "      <td>65.6210</td>\n",
       "      <td>Wednesday</td>\n",
       "      <td>47</td>\n",
       "    </tr>\n",
       "    <tr>\n",
       "      <th>19</th>\n",
       "      <td>26.11.2015</td>\n",
       "      <td>65.4789</td>\n",
       "      <td>Thursday</td>\n",
       "      <td>47</td>\n",
       "    </tr>\n",
       "    <tr>\n",
       "      <th>20</th>\n",
       "      <td>27.11.2015</td>\n",
       "      <td>65.6836</td>\n",
       "      <td>Friday</td>\n",
       "      <td>47</td>\n",
       "    </tr>\n",
       "    <tr>\n",
       "      <th>21</th>\n",
       "      <td>28.11.2015</td>\n",
       "      <td>66.2393</td>\n",
       "      <td>Saturday</td>\n",
       "      <td>47</td>\n",
       "    </tr>\n",
       "  </tbody>\n",
       "</table>\n",
       "</div>"
      ],
      "text/plain": [
       "          date     rate        day week\n",
       "17  24.11.2015  65.5973    Tuesday   47\n",
       "18  25.11.2015  65.6210  Wednesday   47\n",
       "19  26.11.2015  65.4789   Thursday   47\n",
       "20  27.11.2015  65.6836     Friday   47\n",
       "21  28.11.2015  66.2393   Saturday   47"
      ]
     },
     "execution_count": 9,
     "metadata": {},
     "output_type": "execute_result"
    }
   ],
   "source": [
    "df_grouped.get_group('47')"
   ]
  },
  {
   "cell_type": "code",
   "execution_count": 17,
   "metadata": {
    "collapsed": false
   },
   "outputs": [
    {
     "data": {
      "image/png": "[encoded data removed]",
      "text/plain": [
       "<matplotlib.figure.Figure at 0x7fcd6044bbd0>"
      ]
     },
     "metadata": {},
     "output_type": "display_data"
    }
   ],
   "source": [
    "fig, axes = plt.subplots(nrows=2, ncols=3,figsize=(15,15))\n",
    "df_grouped.get_group('43').plot(ax=axes[0,0],x='date',y='rate', grid=True);\n",
    "df_grouped.get_group('44').plot(ax=axes[0,1],x='date',y='rate', grid=True);\n",
    "df_grouped.get_group('45').plot(ax=axes[0,2],x='date',y='rate', grid=True);\n",
    "df_grouped.get_group('46').plot(ax=axes[1,0],x='date',y='rate', grid=True);\n",
    "df_grouped.get_group('47').plot(ax=axes[1,1],x='date',y='rate', grid=True);\n",
    "df_grouped.get_group('48').plot(ax=axes[1,2],x='date',y='rate', grid=True);"
   ]
  },
  {
   "cell_type": "code",
   "execution_count": null,
   "metadata": {
    "collapsed": true
   },
   "outputs": [],
   "source": []
  }
 ],
 "metadata": {
  "kernelspec": {
   "display_name": "Python 2",
   "language": "python",
   "name": "python2"
  },
  "language_info": {
   "codemirror_mode": {
    "name": "ipython",
    "version": 2
   },
   "file_extension": ".py",
   "mimetype": "text/x-python",
   "name": "python",
   "nbconvert_exporter": "python",
   "pygments_lexer": "ipython2",
   "version": "2.7.9"
  }
 },
 "nbformat": 4,
 "nbformat_minor": 0
}
