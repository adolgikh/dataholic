{
 "cells": [
  {
   "cell_type": "code",
   "execution_count": 79,
   "metadata": {
    "collapsed": true
   },
   "outputs": [],
   "source": [
    "import pandas as pd\n",
    "import tarfile\n",
    "from matplotlib import pylab as pl\n",
    "from numpy import fft\n",
    "%matplotlib inline"
   ]
  },
  {
   "cell_type": "code",
   "execution_count": 21,
   "metadata": {
    "collapsed": false
   },
   "outputs": [],
   "source": [
    "tf = tarfile.open(name='../../datasets/nialm/homeA-circuit.tar.gz')"
   ]
  },
  {
   "cell_type": "code",
   "execution_count": 34,
   "metadata": {
    "collapsed": false
   },
   "outputs": [],
   "source": [
    "tared_csv = tf.getmember('homeA-circuit/2012-Jul-10.csv')\n",
    "f = tf.extractfile(tared_csv)"
   ]
  },
  {
   "cell_type": "code",
   "execution_count": 35,
   "metadata": {
    "collapsed": false
   },
   "outputs": [],
   "source": [
    "df = pd.read_csv(f, sep=',', header=None, names=('CircuitName','CircuitNumber','TimestampUTC','RealPowerWatts','ApparentPowerVAs'))"
   ]
  },
  {
   "cell_type": "code",
   "execution_count": 40,
   "metadata": {
    "collapsed": false
   },
   "outputs": [],
   "source": [
    "grid = df[df['CircuitNumber']==1]"
   ]
  },
  {
   "cell_type": "code",
   "execution_count": 53,
   "metadata": {
    "collapsed": false
   },
   "outputs": [],
   "source": [
    "max_t = grid.max()['TimestampUTC']"
   ]
  },
  {
   "cell_type": "code",
   "execution_count": 54,
   "metadata": {
    "collapsed": false
   },
   "outputs": [],
   "source": [
    "min_t = grid.min()['TimestampUTC']"
   ]
  },
  {
   "cell_type": "code",
   "execution_count": 57,
   "metadata": {
    "collapsed": false
   },
   "outputs": [
    {
     "data": {
      "text/plain": [
       "23"
      ]
     },
     "execution_count": 57,
     "metadata": {},
     "output_type": "execute_result"
    }
   ],
   "source": [
    "(max_t - min_t)/60/60"
   ]
  },
  {
   "cell_type": "code",
   "execution_count": 62,
   "metadata": {
    "collapsed": false
   },
   "outputs": [
    {
     "data": {
      "text/html": [
       "<div>\n",
       "<table border=\"1\" class=\"dataframe\">\n",
       "  <thead>\n",
       "    <tr style=\"text-align: right;\">\n",
       "      <th></th>\n",
       "      <th>CircuitName</th>\n",
       "      <th>CircuitNumber</th>\n",
       "      <th>TimestampUTC</th>\n",
       "      <th>RealPowerWatts</th>\n",
       "      <th>ApparentPowerVAs</th>\n",
       "    </tr>\n",
       "  </thead>\n",
       "  <tbody>\n",
       "    <tr>\n",
       "      <th>0</th>\n",
       "      <td>Grid</td>\n",
       "      <td>1</td>\n",
       "      <td>1341825484</td>\n",
       "      <td>432.636</td>\n",
       "      <td>480.711</td>\n",
       "    </tr>\n",
       "    <tr>\n",
       "      <th>11</th>\n",
       "      <td>Grid</td>\n",
       "      <td>1</td>\n",
       "      <td>1341825491</td>\n",
       "      <td>433.460</td>\n",
       "      <td>481.014</td>\n",
       "    </tr>\n",
       "    <tr>\n",
       "      <th>12</th>\n",
       "      <td>Grid</td>\n",
       "      <td>1</td>\n",
       "      <td>1341825495</td>\n",
       "      <td>435.523</td>\n",
       "      <td>483.907</td>\n",
       "    </tr>\n",
       "    <tr>\n",
       "      <th>13</th>\n",
       "      <td>Grid</td>\n",
       "      <td>1</td>\n",
       "      <td>1341825496</td>\n",
       "      <td>438.547</td>\n",
       "      <td>487.181</td>\n",
       "    </tr>\n",
       "    <tr>\n",
       "      <th>14</th>\n",
       "      <td>Grid</td>\n",
       "      <td>1</td>\n",
       "      <td>1341825497</td>\n",
       "      <td>434.091</td>\n",
       "      <td>482.237</td>\n",
       "    </tr>\n",
       "  </tbody>\n",
       "</table>\n",
       "</div>"
      ],
      "text/plain": [
       "   CircuitName  CircuitNumber  TimestampUTC  RealPowerWatts  ApparentPowerVAs\n",
       "0         Grid              1    1341825484         432.636           480.711\n",
       "11        Grid              1    1341825491         433.460           481.014\n",
       "12        Grid              1    1341825495         435.523           483.907\n",
       "13        Grid              1    1341825496         438.547           487.181\n",
       "14        Grid              1    1341825497         434.091           482.237"
      ]
     },
     "execution_count": 62,
     "metadata": {},
     "output_type": "execute_result"
    }
   ],
   "source": [
    "grid.sort_values(by='TimestampUTC').head()"
   ]
  },
  {
   "cell_type": "markdown",
   "metadata": {},
   "source": [
    "**Plotting data frames**"
   ]
  },
  {
   "cell_type": "code",
   "execution_count": 78,
   "metadata": {
    "collapsed": false
   },
   "outputs": [
    {
     "data": {
      "text/plain": [
       "<matplotlib.axes._subplots.AxesSubplot at 0x7ff4da056490>"
      ]
     },
     "execution_count": 78,
     "metadata": {},
     "output_type": "execute_result"
    },
    {
     "data": {
      "image/png": "[encoded data removed]",
      "text/plain": [
       "<matplotlib.figure.Figure at 0x7ff4d9ef5090>"
      ]
     },
     "metadata": {},
     "output_type": "display_data"
    }
   ],
   "source": [
    "grid.plot(x='TimestampUTC', y='RealPowerWatts')"
   ]
  },
  {
   "cell_type": "code",
   "execution_count": 81,
   "metadata": {
    "collapsed": false
   },
   "outputs": [
    {
     "data": {
      "text/plain": [
       "array([ 99844585.84700000       +0.j        ,\n",
       "        -7864893.80540152-33575110.60016705j,\n",
       "        -8992418.78540415 -4593097.97017461j, ...,\n",
       "        -3652332.02764420 +4287532.7707987j ,\n",
       "        -8992418.78540411 +4593097.97017469j,\n",
       "        -7864893.80540128+33575110.6001671j ])"
      ]
     },
     "execution_count": 81,
     "metadata": {},
     "output_type": "execute_result"
    }
   ],
   "source": [
    "fft.fft(df['RealPowerWatts'])"
   ]
  },
  {
   "cell_type": "code",
   "execution_count": null,
   "metadata": {
    "collapsed": true
   },
   "outputs": [],
   "source": []
  }
 ],
 "metadata": {
  "kernelspec": {
   "display_name": "Python 2",
   "language": "python",
   "name": "python2"
  },
  "language_info": {
   "codemirror_mode": {
    "name": "ipython",
    "version": 2
   },
   "file_extension": ".py",
   "mimetype": "text/x-python",
   "name": "python",
   "nbconvert_exporter": "python",
   "pygments_lexer": "ipython2",
   "version": "2.7.9"
  }
 },
 "nbformat": 4,
 "nbformat_minor": 0
}
