{
 "cells": [
  {
   "cell_type": "markdown",
   "metadata": {
    "slideshow": {
     "slide_type": "slide"
    }
   },
   "source": [
    "# Data science and Python"
   ]
  },
  {
   "cell_type": "markdown",
   "metadata": {
    "slideshow": {
     "slide_type": "subslide"
    }
   },
   "source": [
    "## The sources used:\n",
    "* [Kdnuggets](http://www.kdnuggets.com/)\n",
    "* [Wickham, H. Tidy data, The Journal of Statistical Software, 2014](http://vita.had.co.nz/papers/tidy-data.pdf)\n",
    "* [Big data: The next frontier for innovation, competition, and productivity, Report by McKinsey Global Institute](http://www.mckinsey.com/insights/business_technology/big_data_the_next_frontier_for_innovation)\n",
    "* [Data smart, Foreman, John W.](http://www.amazon.com/Data-Smart-Science-Transform-Information/dp/111866146X)\n",
    "* [Data Mining: Concepts and Techniques, Han, J., Kamber, M. and Pei, J.](http://www.amazon.com/Data-Mining-Concepts-Techniques-Management/dp/0123814790/ref=asap_bc?ie=UTF8)\n",
    "* [Data Scientist: The Sexiest Job of the 21st Century, Davenport, T.H., Patil, D.J., Harvard Business Journal, October 2012](https://hbr.org/2012/10/data-scientist-the-sexiest-job-of-the-21st-century/)"
   ]
  },
  {
   "cell_type": "markdown",
   "metadata": {
    "slideshow": {
     "slide_type": "slide"
    }
   },
   "source": [
    "# Why data science?\n"
   ]
  },
  {
   "cell_type": "markdown",
   "metadata": {
    "slideshow": {
     "slide_type": "subslide"
    }
   },
   "source": [
    "** Data science is the transformation of data using mathematics and statistics into valuable insights, decisions, and products. **\n",
    "\n",
    "_Data Smart, Foreman, John W._\n"
   ]
  },
  {
   "cell_type": "markdown",
   "metadata": {
    "slideshow": {
     "slide_type": "fragment"
    }
   },
   "source": [
    "** It's just a new spin on something people have been doing for a long time. **\n",
    "\n",
    "_Data Smart, Foreman, John W._"
   ]
  },
  {
   "cell_type": "markdown",
   "metadata": {
    "slideshow": {
     "slide_type": "subslide"
    }
   },
   "source": [
    "**I keep saying that the sexy job in the next 10 years will be statisticians**\n",
    "\n",
    "_Hal Varian, chief economist at Google_"
   ]
  },
  {
   "cell_type": "markdown",
   "metadata": {
    "slideshow": {
     "slide_type": "subslide"
    }
   },
   "source": [
    "<img src=\"job-titles.jpg\" height=100>"
   ]
  },
  {
   "cell_type": "markdown",
   "metadata": {
    "slideshow": {
     "slide_type": "subslide"
    }
   },
   "source": [
    "## Big data benefits\n",
    "\n",
    "* Healthcare (17% of US GDP)\n",
    "* Retail\n",
    "* Manufacturing\n",
    "* Telecommunications"
   ]
  },
  {
   "cell_type": "markdown",
   "metadata": {
    "slideshow": {
     "slide_type": "slide"
    }
   },
   "source": [
    "## Who is the data scientist?\n",
    "<img src=\"ds_scheme.png\" height=100>"
   ]
  },
  {
   "cell_type": "markdown",
   "metadata": {
    "slideshow": {
     "slide_type": "subslide"
    }
   },
   "source": [
    "## Data scientist skills\n",
    "\n",
    "* **Education**\n",
    "* **SAS and/or R knowledge**\n",
    "* **Python Coding**\n",
    "* **Hadoop platform**\n",
    "* **SQL Database/Coding**\n",
    "* **Operating with unstructured data**\n",
    "* **Business acumen**\n"
   ]
  },
  {
   "cell_type": "markdown",
   "metadata": {
    "slideshow": {
     "slide_type": "subslide"
    }
   },
   "source": [
    "**Here’s what you’ll get to do**:\n",
    "\n",
    "* Oversee data quality monitoring, including processing, management and cleaning.\n",
    "* Preparation of data extraction and summary for research and/or quality improvement reports.\n",
    "* Integrate data from various sources for analysis, clean and recode data as needed\n",
    "* Work extensively in SAS/R including the creation of SAS/R macros.\n",
    "* Perform statistical analyses including descriptive statistics (group comparisons, regression, etc) and inferential statistics, present results in tables and figures.\n",
    "* Develop new data processing routines and new data visualization tools.\n",
    "* Participate and contribute to machine-learning research.\n",
    "* Attend relevant meetings, courses or workshops as needed.\n",
    "* Assist and mentor students, trainees, etc with data analyses.\n",
    "\n",
    "**Here’s what you’ll need:**\n",
    "\n",
    "* Master’s degree in a relevant discipline (candidates with PhD will be given preference) or equivalent combination of training and experience.\n",
    "* Excellent proficient in statistical analysis/knowledge of SAS and or R.\n",
    "* Knowledge of Python, Apache Spark and programming (SQL, C/C++) a definite asset.\n",
    "* A minimum of 5 years relevant experience.\n",
    "* Evidence of advanced health research statistical skills (course work and practical experience) including competency in methods for handling, large data, measurement error and missing data.\n",
    "* Previous experience with machine learning, big data.\n",
    "* Content expertise on cardiovascular disease a definite asset.\n",
    "* Proven ability to work with students/staff with limited statistics knowledge an asset.\n",
    "* Demonstrated creativity and latitude in problem solving. This includes the ability prioritize and execute multiple competing tasks.\n",
    "* Excellent attention to detail.\n",
    "* Ability to work independently.\n",
    "* Excellent written and oral communication skills.\n",
    "* Strong interpersonal and organizational skills.\n",
    "* Ability to work in a diverse team environment."
   ]
  },
  {
   "cell_type": "markdown",
   "metadata": {
    "slideshow": {
     "slide_type": "slide"
    }
   },
   "source": [
    "## Data driven companies\n",
    "\n",
    "* Google\n",
    "* Amazon\n",
    "* Social networks\n",
    "* Teradata\n",
    "* SAS\n",
    "* Tableau\n",
    "* JetBrains (Census Analyzer)\n",
    "* Wolfram\n",
    "* Splunk\n",
    "* ..."
   ]
  },
  {
   "cell_type": "markdown",
   "metadata": {
    "slideshow": {
     "slide_type": "slide"
    }
   },
   "source": [
    "# Why Python?"
   ]
  },
  {
   "cell_type": "markdown",
   "metadata": {
    "slideshow": {
     "slide_type": "fragment"
    }
   },
   "source": [
    "* Large community = Documentation = Brainpower,"
   ]
  },
  {
   "cell_type": "markdown",
   "metadata": {
    "slideshow": {
     "slide_type": "fragment"
    }
   },
   "source": [
    "* Growing Data Analytics Libraries (NumPy, SciPy, StatsModels, Scikit-Learn, _Pandas_),"
   ]
  },
  {
   "cell_type": "markdown",
   "metadata": {
    "slideshow": {
     "slide_type": "fragment"
    }
   },
   "source": [
    "* Nice visualization (matplotlib, Plotly, Bokeh),"
   ]
  },
  {
   "cell_type": "markdown",
   "metadata": {
    "slideshow": {
     "slide_type": "fragment"
    }
   },
   "source": [
    "* General purpose language."
   ]
  },
  {
   "cell_type": "markdown",
   "metadata": {
    "slideshow": {
     "slide_type": "subslide"
    }
   },
   "source": [
    "* **NumPy** &ndash; high performance, flexible array structures and operations,\n",
    "* **SciPy** &ndash; collection of scientific modules and functions (e.g. for regression, optimization, integration),\n",
    "* **pandas** &ndash; time series and panel data analysis and I/O,\n",
    "* **PyTables** &ndash; hierarchical, high performance database (e.g. for out-of-memory analytics),\n",
    "* **matplotlib** &ndash; 2d and 3d visualization,\n",
    "* **IPython** &ndash; interactive data analytics, visualization, publishing.\n"
   ]
  },
  {
   "cell_type": "markdown",
   "metadata": {
    "slideshow": {
     "slide_type": "slide"
    }
   },
   "source": [
    "## Why not Python?"
   ]
  },
  {
   "cell_type": "markdown",
   "metadata": {
    "slideshow": {
     "slide_type": "fragment"
    }
   },
   "source": [
    "* Not statically typed?\n",
    "* Slow?\n",
    "* I really miss pipes:\n",
    "```R\n",
    "totalpm25 <- filter(data, SCC %in% motorVehicleSCC & fips %in% c(\"24510\", \"06037\")) %>% group_by(year, fips) \n",
    "%>% summarise(pm25=mean(Emissions, na.rm = TRUE))\n",
    "```\n",
    "* Concurrency?\n",
    "* Parallelism?"
   ]
  },
  {
   "cell_type": "markdown",
   "metadata": {
    "slideshow": {
     "slide_type": "slide"
    }
   },
   "source": [
    "# What about data?"
   ]
  },
  {
   "cell_type": "markdown",
   "metadata": {
    "slideshow": {
     "slide_type": "subslide"
    }
   },
   "source": [
    "**Information is a quantity that reduces uncertainty about something.**\n",
    "\n",
    "_Provot, F. and Fawcett, T. in Data Science for Business_\n"
   ]
  },
  {
   "cell_type": "markdown",
   "metadata": {
    "slideshow": {
     "slide_type": "fragment"
    }
   },
   "source": [
    "### Before getting knowledge from data:\n",
    "* Data acquisition\n",
    "* Data preprocessing\n",
    "    * Data cleaning\n",
    "    * Data transformation\n",
    "    * Data integration\n",
    "    * Data warehousing"
   ]
  },
  {
   "cell_type": "markdown",
   "metadata": {
    "slideshow": {
     "slide_type": "subslide"
    }
   },
   "source": [
    "## Data is untidy\n",
    "\n",
    "* Column headers are values, not variable names\n",
    "* Multiple variables are stored in one column\n",
    "* Variables are stored in both rows and columns\n",
    "* Multiple types of observational units are stored in the same table\n",
    "* A single observational unit is stored in multiple tables"
   ]
  },
  {
   "cell_type": "markdown",
   "metadata": {
    "slideshow": {
     "slide_type": "slide"
    }
   },
   "source": [
    "# Pandas"
   ]
  },
  {
   "cell_type": "markdown",
   "metadata": {
    "slideshow": {
     "slide_type": "subslide"
    }
   },
   "source": [
    "## Main data structures\n",
    "* Series\n",
    "* Index\n",
    "* Dataframe"
   ]
  },
  {
   "cell_type": "markdown",
   "metadata": {
    "slideshow": {
     "slide_type": "slide"
    }
   },
   "source": [
    "## Data acquisition. Web page."
   ]
  },
  {
   "cell_type": "code",
   "execution_count": 21,
   "metadata": {
    "collapsed": true,
    "slideshow": {
     "slide_type": "fragment"
    }
   },
   "outputs": [],
   "source": [
    "import pandas as pd\n",
    "import locale\n",
    "from dateutil.parser import parse\n",
    "from matplotlib import pyplot as plt\n",
    "%matplotlib inline\n",
    "\n",
    "df = pd.read_html(\n",
    "    'http://www.cbr.ru/currency_base/dynamics.aspx?VAL_NM_RQ=R01235&date_req1=29.10.2015&date_req2=05.12.2015&rt=1&mode=1', \n",
    "    attrs={'class': 'data'}, \n",
    "    header=0, \n",
    "    parse_dates=True, \n",
    "    thousands=' ')[0]\n",
    "df.rename(columns={u'Дата': 'date', u'Курс': 'rate'}, inplace=True)\n",
    "df.drop(u'Единиц', axis=1, inplace=True)"
   ]
  },
  {
   "cell_type": "code",
   "execution_count": 22,
   "metadata": {
    "collapsed": false,
    "slideshow": {
     "slide_type": "fragment"
    }
   },
   "outputs": [
    {
     "name": "stdout",
     "output_type": "stream",
     "text": [
      "<class 'pandas.core.frame.DataFrame'>\n",
      "Int64Index: 27 entries, 0 to 26\n",
      "Data columns (total 2 columns):\n",
      "date    27 non-null object\n",
      "rate    27 non-null object\n",
      "dtypes: object(2)\n",
      "memory usage: 648.0+ bytes\n"
     ]
    }
   ],
   "source": [
    "df.info()"
   ]
  },
  {
   "cell_type": "code",
   "execution_count": 23,
   "metadata": {
    "collapsed": false,
    "slideshow": {
     "slide_type": "fragment"
    }
   },
   "outputs": [
    {
     "data": {
      "text/html": [
       "<div>\n",
       "<table border=\"1\" class=\"dataframe\">\n",
       "  <thead>\n",
       "    <tr style=\"text-align: right;\">\n",
       "      <th></th>\n",
       "      <th>date</th>\n",
       "      <th>rate</th>\n",
       "    </tr>\n",
       "  </thead>\n",
       "  <tbody>\n",
       "    <tr>\n",
       "      <th>0</th>\n",
       "      <td>29.10.2015</td>\n",
       "      <td>65,3159</td>\n",
       "    </tr>\n",
       "    <tr>\n",
       "      <th>1</th>\n",
       "      <td>30.10.2015</td>\n",
       "      <td>64,1686</td>\n",
       "    </tr>\n",
       "    <tr>\n",
       "      <th>2</th>\n",
       "      <td>31.10.2015</td>\n",
       "      <td>64,3742</td>\n",
       "    </tr>\n",
       "    <tr>\n",
       "      <th>3</th>\n",
       "      <td>03.11.2015</td>\n",
       "      <td>63,7993</td>\n",
       "    </tr>\n",
       "    <tr>\n",
       "      <th>4</th>\n",
       "      <td>04.11.2015</td>\n",
       "      <td>63,8525</td>\n",
       "    </tr>\n",
       "  </tbody>\n",
       "</table>\n",
       "</div>"
      ],
      "text/plain": [
       "         date     rate\n",
       "0  29.10.2015  65,3159\n",
       "1  30.10.2015  64,1686\n",
       "2  31.10.2015  64,3742\n",
       "3  03.11.2015  63,7993\n",
       "4  04.11.2015  63,8525"
      ]
     },
     "execution_count": 23,
     "metadata": {},
     "output_type": "execute_result"
    }
   ],
   "source": [
    "df.head()"
   ]
  },
  {
   "cell_type": "code",
   "execution_count": 25,
   "metadata": {
    "collapsed": false,
    "slideshow": {
     "slide_type": "fragment"
    }
   },
   "outputs": [
    {
     "data": {
      "text/plain": [
       "<matplotlib.axes._subplots.AxesSubplot at 0x7f55e8c25d50>"
      ]
     },
     "execution_count": 25,
     "metadata": {},
     "output_type": "execute_result"
    },
    {
     "data": {
      "image/png": "[encoded data removed]",
      "text/plain": [
       "<matplotlib.figure.Figure at 0x7f55e755d310>"
      ]
     },
     "metadata": {},
     "output_type": "display_data"
    }
   ],
   "source": [
    "locale.setlocale(locale.LC_ALL, 'en_US.UTF-8')\n",
    "df['day']=pd.Series(map(lambda el: parse(el, dayfirst=True).strftime('%A'), df['date']))\n",
    "df['week']=pd.Series(map(lambda el: parse(el,dayfirst=True).strftime('%U'), df['date']))\n",
    "locale.setlocale(locale.LC_ALL, 'ru_RU.UTF-8')\n",
    "df['rate'] = map(lambda el: locale.atof(str(el)), df['rate'])\n",
    "locale.setlocale(locale.LC_ALL, 'en_US.UTF-8')\n",
    "\n",
    "df.plot(x='date', y='rate', grid=True)"
   ]
  },
  {
   "cell_type": "markdown",
   "metadata": {
    "slideshow": {
     "slide_type": "slide"
    }
   },
   "source": [
    "## Data manipulation. Movie lens.\n"
   ]
  },
  {
   "cell_type": "code",
   "execution_count": 1,
   "metadata": {
    "collapsed": true,
    "slideshow": {
     "slide_type": "subslide"
    }
   },
   "outputs": [],
   "source": [
    "import zipfile as zf\n",
    "import pandas as pd\n",
    "import urlparse"
   ]
  },
  {
   "cell_type": "code",
   "execution_count": 7,
   "metadata": {
    "collapsed": false,
    "slideshow": {
     "slide_type": "fragment"
    }
   },
   "outputs": [
    {
     "data": {
      "text/plain": [
       "array(['technician', 'other', 'writer', 'executive', 'administrator',\n",
       "       'student', 'lawyer', 'educator', 'scientist', 'entertainment',\n",
       "       'programmer', 'librarian', 'homemaker', 'artist', 'engineer',\n",
       "       'marketing', 'none', 'healthcare', 'retired', 'salesman', 'doctor'], dtype=object)"
      ]
     },
     "execution_count": 7,
     "metadata": {},
     "output_type": "execute_result"
    }
   ],
   "source": [
    "archive = zf.ZipFile('../../datasets/movie_lens/ml-100k.zip')\n",
    "users_data = pd.read_csv(archive.open('ml-100k/u.user'), sep='|', header=None, names=('user_id', 'age', 'gender', 'occupation', 'zip_code'))\n",
    "survey_data = pd.read_csv(archive.open('ml-100k/u.data'), sep='\\t', header=None, names=('user_id', 'item_id', 'rating', 'timestamp'))\n",
    "movies_data = pd.read_csv(\n",
    "    archive.open('ml-100k/u.item'),\n",
    "    sep='|', \n",
    "    header=None, \n",
    "    usecols=[0, 1, 2, 4, 5, 6, 7, 8, 9, 10, 11, 12, 13, 14, 15, 16, 17,18,19,20,21,22,23],\n",
    "    names=('movie id', 'movie title', 'release date', 'IMDb URL','unknown', 'Action', 'Adventure', 'Animation', \"Children's\", 'Comedy', 'Crime', 'Documentary', 'Drama', 'Fantasy', 'Film-Noir', 'Horror', 'Musical', 'Mystery', 'Romance', 'Sci-Fi','Thriller', 'War', 'Western'), \n",
    "    parse_dates=[2]\n",
    "    )\n",
    "users_data['occupation'].unique()"
   ]
  },
  {
   "cell_type": "code",
   "execution_count": 10,
   "metadata": {
    "collapsed": true,
    "slideshow": {
     "slide_type": "fragment"
    }
   },
   "outputs": [],
   "source": [
    "survey_with_users=pd.merge(survey_data, users_data, on='user_id')"
   ]
  },
  {
   "cell_type": "code",
   "execution_count": 12,
   "metadata": {
    "collapsed": false,
    "slideshow": {
     "slide_type": "fragment"
    }
   },
   "outputs": [
    {
     "data": {
      "text/html": [
       "<div>\n",
       "<table border=\"1\" class=\"dataframe\">\n",
       "  <thead>\n",
       "    <tr style=\"text-align: right;\">\n",
       "      <th></th>\n",
       "      <th>user_id</th>\n",
       "      <th>item_id</th>\n",
       "      <th>rating</th>\n",
       "      <th>timestamp</th>\n",
       "      <th>age</th>\n",
       "      <th>gender</th>\n",
       "      <th>occupation</th>\n",
       "      <th>zip_code</th>\n",
       "      <th>movie title</th>\n",
       "      <th>release date</th>\n",
       "      <th>...</th>\n",
       "      <th>Fantasy</th>\n",
       "      <th>Film-Noir</th>\n",
       "      <th>Horror</th>\n",
       "      <th>Musical</th>\n",
       "      <th>Mystery</th>\n",
       "      <th>Romance</th>\n",
       "      <th>Sci-Fi</th>\n",
       "      <th>Thriller</th>\n",
       "      <th>War</th>\n",
       "      <th>Western</th>\n",
       "    </tr>\n",
       "  </thead>\n",
       "  <tbody>\n",
       "    <tr>\n",
       "      <th>0</th>\n",
       "      <td>196</td>\n",
       "      <td>242</td>\n",
       "      <td>3</td>\n",
       "      <td>881250949</td>\n",
       "      <td>49</td>\n",
       "      <td>M</td>\n",
       "      <td>writer</td>\n",
       "      <td>55105</td>\n",
       "      <td>Kolya (1996)</td>\n",
       "      <td>1997-01-24</td>\n",
       "      <td>...</td>\n",
       "      <td>0</td>\n",
       "      <td>0</td>\n",
       "      <td>0</td>\n",
       "      <td>0</td>\n",
       "      <td>0</td>\n",
       "      <td>0</td>\n",
       "      <td>0</td>\n",
       "      <td>0</td>\n",
       "      <td>0</td>\n",
       "      <td>0</td>\n",
       "    </tr>\n",
       "    <tr>\n",
       "      <th>1</th>\n",
       "      <td>305</td>\n",
       "      <td>242</td>\n",
       "      <td>5</td>\n",
       "      <td>886307828</td>\n",
       "      <td>23</td>\n",
       "      <td>M</td>\n",
       "      <td>programmer</td>\n",
       "      <td>94086</td>\n",
       "      <td>Kolya (1996)</td>\n",
       "      <td>1997-01-24</td>\n",
       "      <td>...</td>\n",
       "      <td>0</td>\n",
       "      <td>0</td>\n",
       "      <td>0</td>\n",
       "      <td>0</td>\n",
       "      <td>0</td>\n",
       "      <td>0</td>\n",
       "      <td>0</td>\n",
       "      <td>0</td>\n",
       "      <td>0</td>\n",
       "      <td>0</td>\n",
       "    </tr>\n",
       "    <tr>\n",
       "      <th>2</th>\n",
       "      <td>6</td>\n",
       "      <td>242</td>\n",
       "      <td>4</td>\n",
       "      <td>883268170</td>\n",
       "      <td>42</td>\n",
       "      <td>M</td>\n",
       "      <td>executive</td>\n",
       "      <td>98101</td>\n",
       "      <td>Kolya (1996)</td>\n",
       "      <td>1997-01-24</td>\n",
       "      <td>...</td>\n",
       "      <td>0</td>\n",
       "      <td>0</td>\n",
       "      <td>0</td>\n",
       "      <td>0</td>\n",
       "      <td>0</td>\n",
       "      <td>0</td>\n",
       "      <td>0</td>\n",
       "      <td>0</td>\n",
       "      <td>0</td>\n",
       "      <td>0</td>\n",
       "    </tr>\n",
       "    <tr>\n",
       "      <th>3</th>\n",
       "      <td>234</td>\n",
       "      <td>242</td>\n",
       "      <td>4</td>\n",
       "      <td>891033261</td>\n",
       "      <td>60</td>\n",
       "      <td>M</td>\n",
       "      <td>retired</td>\n",
       "      <td>94702</td>\n",
       "      <td>Kolya (1996)</td>\n",
       "      <td>1997-01-24</td>\n",
       "      <td>...</td>\n",
       "      <td>0</td>\n",
       "      <td>0</td>\n",
       "      <td>0</td>\n",
       "      <td>0</td>\n",
       "      <td>0</td>\n",
       "      <td>0</td>\n",
       "      <td>0</td>\n",
       "      <td>0</td>\n",
       "      <td>0</td>\n",
       "      <td>0</td>\n",
       "    </tr>\n",
       "    <tr>\n",
       "      <th>4</th>\n",
       "      <td>63</td>\n",
       "      <td>242</td>\n",
       "      <td>3</td>\n",
       "      <td>875747190</td>\n",
       "      <td>31</td>\n",
       "      <td>M</td>\n",
       "      <td>marketing</td>\n",
       "      <td>75240</td>\n",
       "      <td>Kolya (1996)</td>\n",
       "      <td>1997-01-24</td>\n",
       "      <td>...</td>\n",
       "      <td>0</td>\n",
       "      <td>0</td>\n",
       "      <td>0</td>\n",
       "      <td>0</td>\n",
       "      <td>0</td>\n",
       "      <td>0</td>\n",
       "      <td>0</td>\n",
       "      <td>0</td>\n",
       "      <td>0</td>\n",
       "      <td>0</td>\n",
       "    </tr>\n",
       "  </tbody>\n",
       "</table>\n",
       "<p>5 rows × 30 columns</p>\n",
       "</div>"
      ],
      "text/plain": [
       "   user_id  item_id  rating  timestamp  age gender  occupation zip_code  \\\n",
       "0      196      242       3  881250949   49      M      writer    55105   \n",
       "1      305      242       5  886307828   23      M  programmer    94086   \n",
       "2        6      242       4  883268170   42      M   executive    98101   \n",
       "3      234      242       4  891033261   60      M     retired    94702   \n",
       "4       63      242       3  875747190   31      M   marketing    75240   \n",
       "\n",
       "    movie title release date   ...    Fantasy  Film-Noir  Horror  Musical  \\\n",
       "0  Kolya (1996)   1997-01-24   ...          0          0       0        0   \n",
       "1  Kolya (1996)   1997-01-24   ...          0          0       0        0   \n",
       "2  Kolya (1996)   1997-01-24   ...          0          0       0        0   \n",
       "3  Kolya (1996)   1997-01-24   ...          0          0       0        0   \n",
       "4  Kolya (1996)   1997-01-24   ...          0          0       0        0   \n",
       "\n",
       "   Mystery  Romance  Sci-Fi  Thriller  War  Western  \n",
       "0        0        0       0         0    0        0  \n",
       "1        0        0       0         0    0        0  \n",
       "2        0        0       0         0    0        0  \n",
       "3        0        0       0         0    0        0  \n",
       "4        0        0       0         0    0        0  \n",
       "\n",
       "[5 rows x 30 columns]"
      ]
     },
     "execution_count": 12,
     "metadata": {},
     "output_type": "execute_result"
    }
   ],
   "source": [
    "movies_data.rename(columns={'movie id':'item_id'}, inplace=True)\n",
    "df_total = pd.merge(survey_with_users, movies_data, on='item_id')\n",
    "df_total.head()"
   ]
  },
  {
   "cell_type": "code",
   "execution_count": 17,
   "metadata": {
    "collapsed": false,
    "slideshow": {
     "slide_type": "subslide"
    }
   },
   "outputs": [
    {
     "data": {
      "text/html": [
       "<div>\n",
       "<table border=\"1\" class=\"dataframe\">\n",
       "  <thead>\n",
       "    <tr style=\"text-align: right;\">\n",
       "      <th></th>\n",
       "      <th>item_id</th>\n",
       "      <th>movie title</th>\n",
       "      <th>release date</th>\n",
       "      <th>IMDb URL</th>\n",
       "      <th>unknown</th>\n",
       "      <th>Action</th>\n",
       "      <th>Adventure</th>\n",
       "      <th>Animation</th>\n",
       "      <th>Children's</th>\n",
       "      <th>Comedy</th>\n",
       "      <th>...</th>\n",
       "      <th>Fantasy</th>\n",
       "      <th>Film-Noir</th>\n",
       "      <th>Horror</th>\n",
       "      <th>Musical</th>\n",
       "      <th>Mystery</th>\n",
       "      <th>Romance</th>\n",
       "      <th>Sci-Fi</th>\n",
       "      <th>Thriller</th>\n",
       "      <th>War</th>\n",
       "      <th>Western</th>\n",
       "    </tr>\n",
       "  </thead>\n",
       "  <tbody>\n",
       "    <tr>\n",
       "      <th>0</th>\n",
       "      <td>1</td>\n",
       "      <td>Toy Story (1995)</td>\n",
       "      <td>1995-01-01</td>\n",
       "      <td>http://us.imdb.com/M/title-exact?Toy%20Story%2...</td>\n",
       "      <td>0</td>\n",
       "      <td>0</td>\n",
       "      <td>0</td>\n",
       "      <td>1</td>\n",
       "      <td>1</td>\n",
       "      <td>1</td>\n",
       "      <td>...</td>\n",
       "      <td>0</td>\n",
       "      <td>0</td>\n",
       "      <td>0</td>\n",
       "      <td>0</td>\n",
       "      <td>0</td>\n",
       "      <td>0</td>\n",
       "      <td>0</td>\n",
       "      <td>0</td>\n",
       "      <td>0</td>\n",
       "      <td>0</td>\n",
       "    </tr>\n",
       "    <tr>\n",
       "      <th>1</th>\n",
       "      <td>2</td>\n",
       "      <td>GoldenEye (1995)</td>\n",
       "      <td>1995-01-01</td>\n",
       "      <td>http://us.imdb.com/M/title-exact?GoldenEye%20(...</td>\n",
       "      <td>0</td>\n",
       "      <td>1</td>\n",
       "      <td>1</td>\n",
       "      <td>0</td>\n",
       "      <td>0</td>\n",
       "      <td>0</td>\n",
       "      <td>...</td>\n",
       "      <td>0</td>\n",
       "      <td>0</td>\n",
       "      <td>0</td>\n",
       "      <td>0</td>\n",
       "      <td>0</td>\n",
       "      <td>0</td>\n",
       "      <td>0</td>\n",
       "      <td>1</td>\n",
       "      <td>0</td>\n",
       "      <td>0</td>\n",
       "    </tr>\n",
       "    <tr>\n",
       "      <th>2</th>\n",
       "      <td>3</td>\n",
       "      <td>Four Rooms (1995)</td>\n",
       "      <td>1995-01-01</td>\n",
       "      <td>http://us.imdb.com/M/title-exact?Four%20Rooms%...</td>\n",
       "      <td>0</td>\n",
       "      <td>0</td>\n",
       "      <td>0</td>\n",
       "      <td>0</td>\n",
       "      <td>0</td>\n",
       "      <td>0</td>\n",
       "      <td>...</td>\n",
       "      <td>0</td>\n",
       "      <td>0</td>\n",
       "      <td>0</td>\n",
       "      <td>0</td>\n",
       "      <td>0</td>\n",
       "      <td>0</td>\n",
       "      <td>0</td>\n",
       "      <td>1</td>\n",
       "      <td>0</td>\n",
       "      <td>0</td>\n",
       "    </tr>\n",
       "    <tr>\n",
       "      <th>3</th>\n",
       "      <td>4</td>\n",
       "      <td>Get Shorty (1995)</td>\n",
       "      <td>1995-01-01</td>\n",
       "      <td>http://us.imdb.com/M/title-exact?Get%20Shorty%...</td>\n",
       "      <td>0</td>\n",
       "      <td>1</td>\n",
       "      <td>0</td>\n",
       "      <td>0</td>\n",
       "      <td>0</td>\n",
       "      <td>1</td>\n",
       "      <td>...</td>\n",
       "      <td>0</td>\n",
       "      <td>0</td>\n",
       "      <td>0</td>\n",
       "      <td>0</td>\n",
       "      <td>0</td>\n",
       "      <td>0</td>\n",
       "      <td>0</td>\n",
       "      <td>0</td>\n",
       "      <td>0</td>\n",
       "      <td>0</td>\n",
       "    </tr>\n",
       "    <tr>\n",
       "      <th>4</th>\n",
       "      <td>5</td>\n",
       "      <td>Copycat (1995)</td>\n",
       "      <td>1995-01-01</td>\n",
       "      <td>http://us.imdb.com/M/title-exact?Copycat%20(1995)</td>\n",
       "      <td>0</td>\n",
       "      <td>0</td>\n",
       "      <td>0</td>\n",
       "      <td>0</td>\n",
       "      <td>0</td>\n",
       "      <td>0</td>\n",
       "      <td>...</td>\n",
       "      <td>0</td>\n",
       "      <td>0</td>\n",
       "      <td>0</td>\n",
       "      <td>0</td>\n",
       "      <td>0</td>\n",
       "      <td>0</td>\n",
       "      <td>0</td>\n",
       "      <td>1</td>\n",
       "      <td>0</td>\n",
       "      <td>0</td>\n",
       "    </tr>\n",
       "  </tbody>\n",
       "</table>\n",
       "<p>5 rows × 23 columns</p>\n",
       "</div>"
      ],
      "text/plain": [
       "   item_id        movie title release date  \\\n",
       "0        1   Toy Story (1995)   1995-01-01   \n",
       "1        2   GoldenEye (1995)   1995-01-01   \n",
       "2        3  Four Rooms (1995)   1995-01-01   \n",
       "3        4  Get Shorty (1995)   1995-01-01   \n",
       "4        5     Copycat (1995)   1995-01-01   \n",
       "\n",
       "                                            IMDb URL  unknown  Action  \\\n",
       "0  http://us.imdb.com/M/title-exact?Toy%20Story%2...        0       0   \n",
       "1  http://us.imdb.com/M/title-exact?GoldenEye%20(...        0       1   \n",
       "2  http://us.imdb.com/M/title-exact?Four%20Rooms%...        0       0   \n",
       "3  http://us.imdb.com/M/title-exact?Get%20Shorty%...        0       1   \n",
       "4  http://us.imdb.com/M/title-exact?Copycat%20(1995)        0       0   \n",
       "\n",
       "   Adventure  Animation  Children's  Comedy   ...     Fantasy  Film-Noir  \\\n",
       "0          0          1           1       1   ...           0          0   \n",
       "1          1          0           0       0   ...           0          0   \n",
       "2          0          0           0       0   ...           0          0   \n",
       "3          0          0           0       1   ...           0          0   \n",
       "4          0          0           0       0   ...           0          0   \n",
       "\n",
       "   Horror  Musical  Mystery  Romance  Sci-Fi  Thriller  War  Western  \n",
       "0       0        0        0        0       0         0    0        0  \n",
       "1       0        0        0        0       0         1    0        0  \n",
       "2       0        0        0        0       0         1    0        0  \n",
       "3       0        0        0        0       0         0    0        0  \n",
       "4       0        0        0        0       0         1    0        0  \n",
       "\n",
       "[5 rows x 23 columns]"
      ]
     },
     "execution_count": 17,
     "metadata": {},
     "output_type": "execute_result"
    }
   ],
   "source": [
    "most_frequent_sci = df_total[df_total['occupation']=='scientist']['item_id'].value_counts(normalize=False)\n",
    "most_freq_movie = movies_data[movies_data['item_id'].isin(most_frequent_sci)]\n",
    "most_freq_movie.head()"
   ]
  },
  {
   "cell_type": "code",
   "execution_count": 15,
   "metadata": {
    "collapsed": false,
    "slideshow": {
     "slide_type": "subslide"
    }
   },
   "outputs": [
    {
     "data": {
      "text/plain": [
       "50     19\n",
       "100    18\n",
       "258    17\n",
       "286    17\n",
       "181    15\n",
       "Name: item_id, dtype: int64"
      ]
     },
     "execution_count": 15,
     "metadata": {},
     "output_type": "execute_result"
    }
   ],
   "source": [
    "most_frequent_sci.head()"
   ]
  },
  {
   "cell_type": "markdown",
   "metadata": {},
   "source": [
    "# Thank you for your attention!"
   ]
  }
 ],
 "metadata": {
  "celltoolbar": "Slideshow",
  "kernelspec": {
   "display_name": "Python 2",
   "language": "python",
   "name": "python2"
  },
  "language_info": {
   "codemirror_mode": {
    "name": "ipython",
    "version": 2
   },
   "file_extension": ".py",
   "mimetype": "text/x-python",
   "name": "python",
   "nbconvert_exporter": "python",
   "pygments_lexer": "ipython2",
   "version": "2.7.9"
  }
 },
 "nbformat": 4,
 "nbformat_minor": 0
}
