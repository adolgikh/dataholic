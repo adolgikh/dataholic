{
 "cells": [
  {
   "cell_type": "code",
   "execution_count": 5,
   "metadata": {
    "collapsed": true
   },
   "outputs": [],
   "source": [
    "from requests import request\n",
    "import requests\n",
    "import pprintpp"
   ]
  },
  {
   "cell_type": "code",
   "execution_count": 6,
   "metadata": {
    "collapsed": false
   },
   "outputs": [
    {
     "name": "stdout",
     "output_type": "stream",
     "text": [
      "<Response [200]>\n"
     ]
    }
   ],
   "source": [
    "url = 'https://api.github.com/repos/ekalinin/nodeenv'\n",
    "result = requests.request('GET', url, headers={'Accept': 'application/vnd.github.drax-preview'})\n",
    "print result"
   ]
  },
  {
   "cell_type": "code",
   "execution_count": 17,
   "metadata": {
    "collapsed": false
   },
   "outputs": [
    {
     "data": {
      "text/plain": [
       "[u'issues_url',\n",
       " u'deployments_url',\n",
       " u'stargazers_count',\n",
       " u'forks_url',\n",
       " u'mirror_url',\n",
       " u'subscription_url',\n",
       " u'notifications_url',\n",
       " u'collaborators_url',\n",
       " u'updated_at',\n",
       " u'private',\n",
       " u'pulls_url',\n",
       " u'issue_comment_url',\n",
       " u'labels_url',\n",
       " u'has_wiki',\n",
       " u'full_name',\n",
       " u'owner',\n",
       " u'statuses_url',\n",
       " u'id',\n",
       " u'keys_url',\n",
       " u'description',\n",
       " u'subscribers_count',\n",
       " u'tags_url',\n",
       " u'network_count',\n",
       " u'downloads_url',\n",
       " u'assignees_url',\n",
       " u'contents_url',\n",
       " u'has_pages',\n",
       " u'git_refs_url',\n",
       " u'open_issues_count',\n",
       " u'clone_url',\n",
       " u'watchers_count',\n",
       " u'git_tags_url',\n",
       " u'milestones_url',\n",
       " u'license',\n",
       " u'languages_url',\n",
       " u'size',\n",
       " u'homepage',\n",
       " u'fork',\n",
       " u'commits_url',\n",
       " u'releases_url',\n",
       " u'issue_events_url',\n",
       " u'archive_url',\n",
       " u'comments_url',\n",
       " u'events_url',\n",
       " u'contributors_url',\n",
       " u'html_url',\n",
       " u'forks',\n",
       " u'compare_url',\n",
       " u'open_issues',\n",
       " u'git_url',\n",
       " u'svn_url',\n",
       " u'merges_url',\n",
       " u'has_issues',\n",
       " u'ssh_url',\n",
       " u'blobs_url',\n",
       " u'master_branch',\n",
       " u'git_commits_url',\n",
       " u'hooks_url',\n",
       " u'has_downloads',\n",
       " u'watchers',\n",
       " u'name',\n",
       " u'language',\n",
       " u'url',\n",
       " u'created_at',\n",
       " u'pushed_at',\n",
       " u'forks_count',\n",
       " u'default_branch',\n",
       " u'teams_url',\n",
       " u'trees_url',\n",
       " u'branches_url',\n",
       " u'subscribers_url',\n",
       " u'stargazers_url']"
      ]
     },
     "execution_count": 17,
     "metadata": {},
     "output_type": "execute_result"
    }
   ],
   "source": [
    "import json\n",
    "from tabulate import tabulate\n",
    "d = json.loads(result.content)\n",
    "d.keys()\n",
    "\n"
   ]
  },
  {
   "cell_type": "code",
   "execution_count": null,
   "metadata": {
    "collapsed": true
   },
   "outputs": [],
   "source": []
  }
 ],
 "metadata": {
  "kernelspec": {
   "display_name": "Python 2",
   "language": "python",
   "name": "python2"
  },
  "language_info": {
   "codemirror_mode": {
    "name": "ipython",
    "version": 2
   },
   "file_extension": ".py",
   "mimetype": "text/x-python",
   "name": "python",
   "nbconvert_exporter": "python",
   "pygments_lexer": "ipython2",
   "version": "2.7.9"
  }
 },
 "nbformat": 4,
 "nbformat_minor": 0
}
